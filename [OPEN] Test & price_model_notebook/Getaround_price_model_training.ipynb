{
  "cells": [
    {
      "cell_type": "markdown",
      "metadata": {
        "id": "bO4bpzfNKTY8"
      },
      "source": [
        "## Imports"
      ]
    },
    {
      "cell_type": "code",
      "execution_count": 130,
      "metadata": {
        "colab": {
          "base_uri": "https://localhost:8080/"
        },
        "id": "ZI_jd0u-1U4q",
        "outputId": "29f1afcd-4c7c-4a95-c9d8-9d706e57bd1f"
      },
      "outputs": [
        {
          "name": "stdout",
          "output_type": "stream",
          "text": [
            "Drive already mounted at /content/drive; to attempt to forcibly remount, call drive.mount(\"/content/drive\", force_remount=True).\n"
          ]
        }
      ],
      "source": [
        "from google.colab import drive\n",
        "drive.mount('/content/drive')\n",
        "import pandas as pd\n",
        "from sklearn.model_selection import train_test_split,GridSearchCV\n",
        "from sklearn.compose import ColumnTransformer\n",
        "from sklearn.preprocessing import StandardScaler,OneHotEncoder\n",
        "from sklearn.pipeline import Pipeline\n",
        "from sklearn.pipeline import make_pipeline\n",
        "from sklearn.ensemble import GradientBoostingRegressor\n",
        "from xgboost import XGBRegressor\n",
        "from sklearn.metrics import r2_score\n",
        "from joblib import dump, load\n",
        "from sklearn.preprocessing import LabelEncoder"
      ]
    },
    {
      "cell_type": "code",
      "execution_count": 131,
      "metadata": {
        "colab": {
          "base_uri": "https://localhost:8080/"
        },
        "id": "LPqczxUw12ws",
        "outputId": "7924fbb1-e474-4c23-fef7-fd99eef79d9a"
      },
      "outputs": [
        {
          "name": "stdout",
          "output_type": "stream",
          "text": [
            "/content/drive/MyDrive/Colab Notebooks\n"
          ]
        }
      ],
      "source": [
        "%cd /content/drive/MyDrive/Colab Notebooks/"
      ]
    },
    {
      "cell_type": "code",
      "execution_count": 132,
      "metadata": {
        "id": "prlozIKP15CX"
      },
      "outputs": [],
      "source": [
        "data = pd.read_csv('get_around_pricing_project.csv', index_col=0)"
      ]
    },
    {
      "cell_type": "markdown",
      "metadata": {
        "id": "DDEkq2i6IJlv"
      },
      "source": [
        "## Cleaning"
      ]
    },
    {
      "cell_type": "code",
      "execution_count": 133,
      "metadata": {
        "id": "xQmrsbXSYHvI"
      },
      "outputs": [],
      "source": [
        "list=['Mini','Honda','Mazda','Lexus','Alfa Romeo']\n",
        "for i in range(len(list)) :\n",
        "    data.drop(data[(data['model_key'] ==list[i])].index,axis=0,inplace=True)"
      ]
    },
    {
      "cell_type": "markdown",
      "metadata": {
        "id": "aYSdgz2ibfZd"
      },
      "source": [
        "## Preprocessing"
      ]
    },
    {
      "cell_type": "markdown",
      "metadata": {
        "id": "eEyLpRQubjbJ"
      },
      "source": [
        "* Separate target variable Y from features X"
      ]
    },
    {
      "cell_type": "code",
      "execution_count": 134,
      "metadata": {
        "colab": {
          "base_uri": "https://localhost:8080/"
        },
        "id": "DnVSynbZZ6LU",
        "outputId": "2695b81f-561c-4ec0-bb39-80baff3bfbc8"
      },
      "outputs": [
        {
          "name": "stdout",
          "output_type": "stream",
          "text": [
            "...Done.\n"
          ]
        }
      ],
      "source": [
        "target_variable = \"rental_price_per_day\"\n",
        "X = data.drop(target_variable, axis = 1)\n",
        "Y = data.loc[:,target_variable]\n",
        "print(\"...Done.\")"
      ]
    },
    {
      "cell_type": "markdown",
      "metadata": {
        "id": "sgFGGtgrbzsX"
      },
      "source": [
        "* Categorisation num/cat"
      ]
    },
    {
      "cell_type": "code",
      "execution_count": 135,
      "metadata": {
        "id": "dVVFQsIqZ_Bd"
      },
      "outputs": [],
      "source": [
        "numeric_features = []\n",
        "categorical_features = []\n",
        "for i,t in X.dtypes.items():\n",
        "    if ('float' in str(t)) or ('int' in str(t)) :\n",
        "        numeric_features.append(i)\n",
        "    else :\n",
        "        categorical_features.append(i)"
      ]
    },
    {
      "cell_type": "markdown",
      "metadata": {
        "id": "fwdcB5IPI4q4"
      },
      "source": [
        "* Split 20/80"
      ]
    },
    {
      "cell_type": "code",
      "execution_count": 136,
      "metadata": {
        "colab": {
          "base_uri": "https://localhost:8080/"
        },
        "id": "TJZpceK5alom",
        "outputId": "89bd3950-9910-4d86-a6a4-631e25a7c271"
      },
      "outputs": [
        {
          "name": "stdout",
          "output_type": "stream",
          "text": [
            "...Done.\n"
          ]
        }
      ],
      "source": [
        "numeric_features=['mileage', 'engine_power']\n",
        "categorical_features = ['model_key', 'fuel', 'paint_color', 'car_type', 'private_parking_available', 'has_gps', 'has_air_conditioning', 'automatic_car', 'has_getaround_connect', 'has_speed_regulator', 'winter_tires']\n",
        "X_train, X_test, Y_train, Y_test = train_test_split(X, Y, test_size=0.2, random_state=0)\n",
        "print(\"...Done.\")"
      ]
    },
    {
      "cell_type": "markdown",
      "metadata": {
        "id": "en4mQ8y2Fudi"
      },
      "source": [
        "* Pipeline"
      ]
    },
    {
      "cell_type": "code",
      "execution_count": 137,
      "metadata": {
        "id": "UOiTtl9iaotI"
      },
      "outputs": [],
      "source": [
        "numeric_transformer = Pipeline(steps=[('scaler', StandardScaler())])\n",
        "\n",
        "categorical_transformer = Pipeline(\n",
        "    steps=[\n",
        "    ('encoder', OneHotEncoder(drop='first'))\n",
        "    ])\n",
        "preprocessor = ColumnTransformer(\n",
        "    transformers=[\n",
        "        ('num', numeric_transformer, numeric_features),\n",
        "        ('cat', categorical_transformer, categorical_features)\n",
        "    ])\n",
        "\n"
      ]
    },
    {
      "cell_type": "markdown",
      "metadata": {
        "id": "0q0g1vy0GRiO"
      },
      "source": [
        "* Gradient Boost Regressor:"
      ]
    },
    {
      "cell_type": "code",
      "execution_count": 138,
      "metadata": {
        "colab": {
          "base_uri": "https://localhost:8080/"
        },
        "id": "sGRBB7cFarsv",
        "outputId": "b19501ce-82f8-4d74-9838-0ebe42e3e9b6"
      },
      "outputs": [
        {
          "name": "stdout",
          "output_type": "stream",
          "text": [
            "r2 on train set :  0.9070636847816742\n",
            "r2 on test set :  0.7674115318887376\n"
          ]
        }
      ],
      "source": [
        "model = Pipeline(steps=[\n",
        "        (\"Preprocessing\", preprocessor),\n",
        "        (\"Regressor\",XGBRegressor(learning_rate= 0.05, max_depth= 8, min_child_weight= 4, n_estimators= 150))\n",
        "    ])\n",
        "\n",
        "model.fit(X_train, Y_train)\n",
        "train_pred = model.predict(X_train)\n",
        "test_pred = model.predict(X_test)\n",
        "\n",
        "print(\"r2 on train set : \", r2_score(Y_train, train_pred))\n",
        "print(\"r2 on test set : \", r2_score(Y_test, test_pred))"
      ]
    },
    {
      "cell_type": "markdown",
      "metadata": {
        "id": "ew0SUf3bIT6u"
      },
      "source": [
        "## Preparing the API"
      ]
    },
    {
      "cell_type": "code",
      "execution_count": 139,
      "metadata": {
        "colab": {
          "base_uri": "https://localhost:8080/"
        },
        "id": "gsnjUuuoawSA",
        "outputId": "201f3198-ec86-42a7-9210-d551d6c5d383"
      },
      "outputs": [
        {
          "data": {
            "text/plain": [
              "['model_xg_getaround.joblib']"
            ]
          },
          "execution_count": 139,
          "metadata": {},
          "output_type": "execute_result"
        }
      ],
      "source": [
        "dump(model, 'api/model_xg_getaround.joblib')"
      ]
    },
    {
      "cell_type": "code",
      "execution_count": 140,
      "metadata": {
        "id": "XU5Ii65bayjI"
      },
      "outputs": [],
      "source": [
        "predi_Features = {\n",
        "  \"model_key\": \"Toyota\",\n",
        "  \"mileage\": 25000,\n",
        "  \"engine_power\": 130,\n",
        "  \"fuel\": \"diesel\",\n",
        "  \"paint_color\": \"red\",\n",
        "  \"car_type\": \"sedan\",\n",
        "  \"private_parking_available\": True,\n",
        "  \"has_gps\": True,\n",
        "  \"has_air_conditioning\": True,\n",
        "  \"automatic_car\": False,\n",
        "  \"has_getaround_connect\": True,\n",
        "  \"has_speed_regulator\": True,\n",
        "  \"winter_tires\": True\n",
        "  }"
      ]
    },
    {
      "cell_type": "code",
      "execution_count": 141,
      "metadata": {
        "colab": {
          "base_uri": "https://localhost:8080/"
        },
        "id": "dvD4U9G5a4x1",
        "outputId": "64164ad5-f405-4c27-8186-ca552c4fc3bc"
      },
      "outputs": [
        {
          "name": "stdout",
          "output_type": "stream",
          "text": [
            "Predicted rental price per day :  152.81 $\n"
          ]
        }
      ],
      "source": [
        "data = pd.DataFrame(dict(predi_Features), index=[0])\n",
        "loaded_model = load('model_xg_getaround.joblib')\n",
        "prediction = loaded_model.predict(data)\n",
        "print('Predicted rental price per day : ', round(prediction.tolist()[0],2),'$')"
      ]
    }
  ],
  "metadata": {
    "accelerator": "GPU",
    "colab": {
      "gpuType": "T4",
      "provenance": []
    },
    "kernelspec": {
      "display_name": "Python 3",
      "name": "python3"
    },
    "language_info": {
      "name": "python"
    }
  },
  "nbformat": 4,
  "nbformat_minor": 0
}
