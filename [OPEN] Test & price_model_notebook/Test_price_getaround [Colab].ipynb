{
  "nbformat": 4,
  "nbformat_minor": 0,
  "metadata": {
    "colab": {
      "provenance": []
    },
    "kernelspec": {
      "name": "python3",
      "display_name": "Python 3"
    },
    "language_info": {
      "name": "python"
    }
  },
  "cells": [
    {
      "cell_type": "markdown",
      "source": [
        "### TEST EN LIVE"
      ],
      "metadata": {
        "id": "VBiKRBqpGTOd"
      }
    },
    {
      "cell_type": "code",
      "source": [
        "import requests\n",
        "import json"
      ],
      "metadata": {
        "id": "sNI1CQH2FdbH"
      },
      "execution_count": 1,
      "outputs": []
    },
    {
      "cell_type": "code",
      "source": [
        "url = 'https://getaroundapi.onrender.com/'"
      ],
      "metadata": {
        "id": "sJfuRicnF09H"
      },
      "execution_count": 6,
      "outputs": []
    },
    {
      "cell_type": "markdown",
      "source": [
        "Predict price :"
      ],
      "metadata": {
        "id": "FdFuvm5UGxOt"
      }
    },
    {
      "cell_type": "code",
      "execution_count": 12,
      "metadata": {
        "colab": {
          "base_uri": "https://localhost:8080/"
        },
        "id": "BKlWYroIFaeC",
        "outputId": "cec50af5-2e47-4c67-b623-e9705c9249c5"
      },
      "outputs": [
        {
          "output_type": "stream",
          "name": "stdout",
          "text": [
            "{'predictions': 102.83970642089844}\n"
          ]
        }
      ],
      "source": [
        "response = requests.post(url+\"predict\",\n",
        "    json={\n",
        "        \"model_key\" : \"Mercedes\",\n",
        "        \"mileage\" : 164889,\n",
        "        \"engine_power\" : 105,\n",
        "        \"fuel\" : \"diesel\",\n",
        "        \"paint_color\" : \"grey\",\n",
        "        \"car_type\" : \"estate\",\n",
        "        \"private_parking_available\" : False,\n",
        "        \"has_gps\" : True,\n",
        "        \"has_air_conditioning\" : False,\n",
        "        \"automatic_car\" : False,\n",
        "        \"has_getaround_connect\" : False,\n",
        "        \"has_speed_regulator\" : False,\n",
        "        \"winter_tires\" : True\n",
        "        })\n",
        "\n",
        "print(response.json())"
      ]
    },
    {
      "cell_type": "markdown",
      "source": [
        "Random 3 cars :"
      ],
      "metadata": {
        "id": "y0g_sX7gGvDW"
      }
    },
    {
      "cell_type": "code",
      "source": [
        "r = requests.get(url+\"Sample cars\")\n",
        "r.content"
      ],
      "metadata": {
        "colab": {
          "base_uri": "https://localhost:8080/"
        },
        "id": "Mgb8y_OFFuFB",
        "outputId": "e4827ad1-9d12-4713-dc67-52d7678c2564"
      },
      "execution_count": 13,
      "outputs": [
        {
          "output_type": "execute_result",
          "data": {
            "text/plain": [
              "b'{\"2971\":{\"model_key\":\"Citro\\xc3\\xabn\",\"mileage\":339716,\"engine_power\":135,\"fuel\":\"diesel\",\"paint_color\":\"black\",\"car_type\":\"sedan\",\"private_parking_available\":false,\"has_gps\":true,\"has_air_conditioning\":false,\"automatic_car\":false,\"has_getaround_connect\":true,\"has_speed_regulator\":false,\"winter_tires\":true,\"rental_price_per_day\":77},\"412\":{\"model_key\":\"Peugeot\",\"mileage\":152360,\"engine_power\":100,\"fuel\":\"diesel\",\"paint_color\":\"grey\",\"car_type\":\"estate\",\"private_parking_available\":false,\"has_gps\":false,\"has_air_conditioning\":false,\"automatic_car\":false,\"has_getaround_connect\":false,\"has_speed_regulator\":false,\"winter_tires\":true,\"rental_price_per_day\":105},\"4037\":{\"model_key\":\"Nissan\",\"mileage\":179624,\"engine_power\":150,\"fuel\":\"diesel\",\"paint_color\":\"black\",\"car_type\":\"suv\",\"private_parking_available\":false,\"has_gps\":false,\"has_air_conditioning\":false,\"automatic_car\":false,\"has_getaround_connect\":false,\"has_speed_regulator\":false,\"winter_tires\":true,\"rental_price_per_day\":107}}'"
            ]
          },
          "metadata": {},
          "execution_count": 13
        }
      ]
    },
    {
      "cell_type": "code",
      "source": [],
      "metadata": {
        "id": "lWGMKBBPFvw1"
      },
      "execution_count": null,
      "outputs": []
    }
  ]
}